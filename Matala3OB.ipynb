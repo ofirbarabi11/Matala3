{
 "cells": [
  {
   "cell_type": "code",
   "execution_count": 17,
   "id": "a041d7ea-da43-443e-83db-064ba5e60c33",
   "metadata": {},
   "outputs": [
    {
     "name": "stdout",
     "output_type": "stream",
     "text": [
      "      Target  Distance_km          Duration  Longitude   Latitude\n",
      "0   Istanbul     1815.227   21 hours 3 mins  28.978359  41.008238\n",
      "1  Amsterdam     4539.165    2 days 0 hours   4.904139  52.367573\n",
      "2   Valletta     3792.883    2 days 3 hours  14.514100  35.899237\n",
      "3      Basel     4092.805    1 day 20 hours   7.588576  47.559599\n",
      "4       Doha     2164.477  22 hours 39 mins  51.531040  25.285447\n"
     ]
    }
   ],
   "source": [
    "import pandas as pd\n",
    "import requests\n",
    "\n",
    "# Read the list of destinations from the file\n",
    "with open('dests.txt', 'r') as f:\n",
    "    destinations = [line.strip() for line in f]\n",
    "\n",
    "# Google API key\n",
    "api_key = 'PUT_YOUR_KEY'\n",
    "\n",
    "# Define the base URL for the Google Distance Matrix API\n",
    "distance_base_url = 'https://maps.googleapis.com/maps/api/distancematrix/json'\n",
    "\n",
    "# Define the base URL for the Google Geocode API\n",
    "geocode_base_url = 'https://maps.googleapis.com/maps/api/geocode/json'\n",
    "\n",
    "# Define the parameters for the Google Distance Matrix API\n",
    "distance_params = {\n",
    "    'units': 'metric',\n",
    "    'key': api_key,\n",
    "}\n",
    "\n",
    "# Define the parameters for the Google Geocode API\n",
    "geocode_params = {\n",
    "    'key': api_key,\n",
    "}\n",
    "\n",
    "# Define the list to store the results\n",
    "results = []\n",
    "\n",
    "# Loop through the destinations and retrieve the information\n",
    "for dest in destinations:\n",
    "    # Set the destination as the target\n",
    "    target = dest\n",
    "    \n",
    "    # Set the origin as Tel Aviv\n",
    "    origin = 'Tel Aviv, Israel'\n",
    "    \n",
    "    # Set the destination parameter for the Google Distance Matrix API\n",
    "    distance_params['origins'] = origin\n",
    "    distance_params['destinations'] = dest\n",
    "    \n",
    "    # Send a GET request to the Google Distance Matrix API\n",
    "    distance_resp = requests.get(distance_base_url, params=distance_params)\n",
    "    distance_data = distance_resp.json()\n",
    "    \n",
    "    # Retrieve the distance and duration information from the response\n",
    "    distance_km = distance_data['rows'][0]['elements'][0]['distance']['value'] / 1000\n",
    "    duration = distance_data['rows'][0]['elements'][0]['duration']['text']\n",
    "    \n",
    "    # Set the address parameter for the Google Geocode API\n",
    "    geocode_params['address'] = dest\n",
    "    \n",
    "    # Send a GET request to the Google Geocode API\n",
    "    geocode_resp = requests.get(geocode_base_url, params=geocode_params)\n",
    "    geocode_data = geocode_resp.json()\n",
    "    \n",
    "    # Retrieve the longitude and latitude information from the response\n",
    "    longitude = geocode_data['results'][0]['geometry']['location']['lng']\n",
    "    latitude = geocode_data['results'][0]['geometry']['location']['lat']\n",
    "    \n",
    "    # Append the data to the list\n",
    "    results.append([target, distance_km, duration, longitude, latitude])\n",
    "\n",
    "# Convert the list to a DataFrame\n",
    "results_df = pd.DataFrame(results, columns=['Target', 'Distance_km', 'Duration', 'Longitude', 'Latitude'])\n",
    "\n",
    "# Print the results dataframe\n",
    "print(results_df)\n"
   ]
  },
  {
   "cell_type": "code",
   "execution_count": 18,
   "id": "c03149a0-3472-41b2-a14f-495c328a8615",
   "metadata": {},
   "outputs": [
    {
     "name": "stdout",
     "output_type": "stream",
     "text": [
      "      Target  Distance_km        Duration  Longitude   Latitude\n",
      "1  Amsterdam     4539.165  2 days 0 hours   4.904139  52.367573\n",
      "3      Basel     4092.805  1 day 20 hours   7.588576  47.559599\n",
      "2   Valletta     3792.883  2 days 3 hours  14.514100  35.899237\n"
     ]
    }
   ],
   "source": [
    "# Sort the dataframe by distance in descending order\n",
    "sorted_df = results_df.sort_values(by='Distance_km', ascending=False)\n",
    "\n",
    "# Retrieve the first three rows\n",
    "furthest_cities = sorted_df.head(3)\n",
    "\n",
    "# Print the furthest cities\n",
    "print(furthest_cities)\n"
   ]
  },
  {
   "cell_type": "code",
   "execution_count": null,
   "id": "c8f4edbf-8039-4d24-aeb4-ce9f59bb31d2",
   "metadata": {},
   "outputs": [],
   "source": []
  }
 ],
 "metadata": {
  "kernelspec": {
   "display_name": "Python 3 (ipykernel)",
   "language": "python",
   "name": "python3"
  },
  "language_info": {
   "codemirror_mode": {
    "name": "ipython",
    "version": 3
   },
   "file_extension": ".py",
   "mimetype": "text/x-python",
   "name": "python",
   "nbconvert_exporter": "python",
   "pygments_lexer": "ipython3",
   "version": "3.11.2"
  }
 },
 "nbformat": 4,
 "nbformat_minor": 5
}
